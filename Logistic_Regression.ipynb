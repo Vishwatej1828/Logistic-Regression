{
 "cells": [
  {
   "cell_type": "markdown",
   "id": "c9a55559",
   "metadata": {},
   "source": [
    "## Logistic Regression"
   ]
  },
  {
   "cell_type": "code",
   "execution_count": 1,
   "id": "8888d789",
   "metadata": {},
   "outputs": [],
   "source": [
    "import numpy as np\n",
    "import matplotlib.pyplot as plt\n",
    "%matplotlib inline\n",
    "import seaborn as sns"
   ]
  },
  {
   "cell_type": "code",
   "execution_count": 2,
   "id": "677e47f5",
   "metadata": {},
   "outputs": [],
   "source": [
    "x1 = [5, 5.5, 6  , 4.6, 9.8, 6.1,3.9,11.5,2.9,4.1,12, 13.1,       10 ,11.2, 11.4,13.6,7 ,7.6,7.59,10, 12, 12.6, 13]\n",
    "x2 = [1, 2.3, 1.3, 1.2, 1.5, 2  ,2.5, 3  ,2.8,1.4,1.9, 3.2,      11.2,11.4, 13.6, 15 ,12, 14,8   ,13, 13, 10  , 10.7]\n",
    "y  = [0, 0  , 0  , 0  ,  0 ,  0 , 0 , 1  , 0 , 0 ,1  ,  1 ,       1  ,  1 , 1   , 1  ,0 ,  1, 1  , 1,  1,    1,   1]"
   ]
  },
  {
   "cell_type": "code",
   "execution_count": 3,
   "id": "82d24201",
   "metadata": {},
   "outputs": [
    {
     "data": {
      "text/plain": [
       "<matplotlib.collections.PathCollection at 0x21c69e7e400>"
      ]
     },
     "execution_count": 3,
     "metadata": {},
     "output_type": "execute_result"
    },
    {
     "data": {
      "image/png": "[encoded data removed]",
      "text/plain": [
       "<Figure size 432x288 with 1 Axes>"
      ]
     },
     "metadata": {
      "needs_background": "light"
     },
     "output_type": "display_data"
    }
   ],
   "source": [
    "plt.scatter(x1, x2)"
   ]
  },
  {
   "cell_type": "code",
   "execution_count": 4,
   "id": "7d97c214",
   "metadata": {},
   "outputs": [
    {
     "data": {
      "text/html": [
       "<div>\n",
       "<style scoped>\n",
       "    .dataframe tbody tr th:only-of-type {\n",
       "        vertical-align: middle;\n",
       "    }\n",
       "\n",
       "    .dataframe tbody tr th {\n",
       "        vertical-align: top;\n",
       "    }\n",
       "\n",
       "    .dataframe thead th {\n",
       "        text-align: right;\n",
       "    }\n",
       "</style>\n",
       "<table border=\"1\" class=\"dataframe\">\n",
       "  <thead>\n",
       "    <tr style=\"text-align: right;\">\n",
       "      <th></th>\n",
       "      <th>x1</th>\n",
       "      <th>x2</th>\n",
       "      <th>y</th>\n",
       "    </tr>\n",
       "  </thead>\n",
       "  <tbody>\n",
       "    <tr>\n",
       "      <th>0</th>\n",
       "      <td>5.00</td>\n",
       "      <td>1.0</td>\n",
       "      <td>0</td>\n",
       "    </tr>\n",
       "    <tr>\n",
       "      <th>1</th>\n",
       "      <td>5.50</td>\n",
       "      <td>2.3</td>\n",
       "      <td>0</td>\n",
       "    </tr>\n",
       "    <tr>\n",
       "      <th>2</th>\n",
       "      <td>6.00</td>\n",
       "      <td>1.3</td>\n",
       "      <td>0</td>\n",
       "    </tr>\n",
       "    <tr>\n",
       "      <th>3</th>\n",
       "      <td>4.60</td>\n",
       "      <td>1.2</td>\n",
       "      <td>0</td>\n",
       "    </tr>\n",
       "    <tr>\n",
       "      <th>4</th>\n",
       "      <td>9.80</td>\n",
       "      <td>1.5</td>\n",
       "      <td>0</td>\n",
       "    </tr>\n",
       "    <tr>\n",
       "      <th>5</th>\n",
       "      <td>6.10</td>\n",
       "      <td>2.0</td>\n",
       "      <td>0</td>\n",
       "    </tr>\n",
       "    <tr>\n",
       "      <th>6</th>\n",
       "      <td>3.90</td>\n",
       "      <td>2.5</td>\n",
       "      <td>0</td>\n",
       "    </tr>\n",
       "    <tr>\n",
       "      <th>7</th>\n",
       "      <td>11.50</td>\n",
       "      <td>3.0</td>\n",
       "      <td>1</td>\n",
       "    </tr>\n",
       "    <tr>\n",
       "      <th>8</th>\n",
       "      <td>2.90</td>\n",
       "      <td>2.8</td>\n",
       "      <td>0</td>\n",
       "    </tr>\n",
       "    <tr>\n",
       "      <th>9</th>\n",
       "      <td>4.10</td>\n",
       "      <td>1.4</td>\n",
       "      <td>0</td>\n",
       "    </tr>\n",
       "    <tr>\n",
       "      <th>10</th>\n",
       "      <td>12.00</td>\n",
       "      <td>1.9</td>\n",
       "      <td>1</td>\n",
       "    </tr>\n",
       "    <tr>\n",
       "      <th>11</th>\n",
       "      <td>13.10</td>\n",
       "      <td>3.2</td>\n",
       "      <td>1</td>\n",
       "    </tr>\n",
       "    <tr>\n",
       "      <th>12</th>\n",
       "      <td>10.00</td>\n",
       "      <td>11.2</td>\n",
       "      <td>1</td>\n",
       "    </tr>\n",
       "    <tr>\n",
       "      <th>13</th>\n",
       "      <td>11.20</td>\n",
       "      <td>11.4</td>\n",
       "      <td>1</td>\n",
       "    </tr>\n",
       "    <tr>\n",
       "      <th>14</th>\n",
       "      <td>11.40</td>\n",
       "      <td>13.6</td>\n",
       "      <td>1</td>\n",
       "    </tr>\n",
       "    <tr>\n",
       "      <th>15</th>\n",
       "      <td>13.60</td>\n",
       "      <td>15.0</td>\n",
       "      <td>1</td>\n",
       "    </tr>\n",
       "    <tr>\n",
       "      <th>16</th>\n",
       "      <td>7.00</td>\n",
       "      <td>12.0</td>\n",
       "      <td>0</td>\n",
       "    </tr>\n",
       "    <tr>\n",
       "      <th>17</th>\n",
       "      <td>7.60</td>\n",
       "      <td>14.0</td>\n",
       "      <td>1</td>\n",
       "    </tr>\n",
       "    <tr>\n",
       "      <th>18</th>\n",
       "      <td>7.59</td>\n",
       "      <td>8.0</td>\n",
       "      <td>1</td>\n",
       "    </tr>\n",
       "    <tr>\n",
       "      <th>19</th>\n",
       "      <td>10.00</td>\n",
       "      <td>13.0</td>\n",
       "      <td>1</td>\n",
       "    </tr>\n",
       "    <tr>\n",
       "      <th>20</th>\n",
       "      <td>12.00</td>\n",
       "      <td>13.0</td>\n",
       "      <td>1</td>\n",
       "    </tr>\n",
       "    <tr>\n",
       "      <th>21</th>\n",
       "      <td>12.60</td>\n",
       "      <td>10.0</td>\n",
       "      <td>1</td>\n",
       "    </tr>\n",
       "    <tr>\n",
       "      <th>22</th>\n",
       "      <td>13.00</td>\n",
       "      <td>10.7</td>\n",
       "      <td>1</td>\n",
       "    </tr>\n",
       "  </tbody>\n",
       "</table>\n",
       "</div>"
      ],
      "text/plain": [
       "       x1    x2  y\n",
       "0    5.00   1.0  0\n",
       "1    5.50   2.3  0\n",
       "2    6.00   1.3  0\n",
       "3    4.60   1.2  0\n",
       "4    9.80   1.5  0\n",
       "5    6.10   2.0  0\n",
       "6    3.90   2.5  0\n",
       "7   11.50   3.0  1\n",
       "8    2.90   2.8  0\n",
       "9    4.10   1.4  0\n",
       "10  12.00   1.9  1\n",
       "11  13.10   3.2  1\n",
       "12  10.00  11.2  1\n",
       "13  11.20  11.4  1\n",
       "14  11.40  13.6  1\n",
       "15  13.60  15.0  1\n",
       "16   7.00  12.0  0\n",
       "17   7.60  14.0  1\n",
       "18   7.59   8.0  1\n",
       "19  10.00  13.0  1\n",
       "20  12.00  13.0  1\n",
       "21  12.60  10.0  1\n",
       "22  13.00  10.7  1"
      ]
     },
     "execution_count": 4,
     "metadata": {},
     "output_type": "execute_result"
    }
   ],
   "source": [
    "import pandas as pd\n",
    "\n",
    "df = pd.DataFrame( list(zip(x1,x2, y)), columns = ['x1', 'x2', 'y'], index = None)\n",
    "df"
   ]
  },
  {
   "cell_type": "code",
   "execution_count": 5,
   "id": "0db84ef1",
   "metadata": {},
   "outputs": [
    {
     "data": {
      "text/plain": [
       "<AxesSubplot:xlabel='x1', ylabel='x2'>"
      ]
     },
     "execution_count": 5,
     "metadata": {},
     "output_type": "execute_result"
    },
    {
     "data": {
      "image/png": "[encoded data removed]",
      "text/plain": [
       "<Figure size 432x288 with 1 Axes>"
      ]
     },
     "metadata": {
      "needs_background": "light"
     },
     "output_type": "display_data"
    }
   ],
   "source": [
    "import seaborn as sns\n",
    "\n",
    "sns.scatterplot(x = 'x1', y= 'x2', data = df, hue = 'y')"
   ]
  },
  {
   "cell_type": "code",
   "execution_count": 6,
   "id": "f38eaf5b",
   "metadata": {},
   "outputs": [
    {
     "data": {
      "text/plain": [
       "array([[ 5.  ,  1.  ],\n",
       "       [ 5.5 ,  2.3 ],\n",
       "       [ 6.  ,  1.3 ],\n",
       "       [ 4.6 ,  1.2 ],\n",
       "       [ 9.8 ,  1.5 ],\n",
       "       [ 6.1 ,  2.  ],\n",
       "       [ 3.9 ,  2.5 ],\n",
       "       [11.5 ,  3.  ],\n",
       "       [ 2.9 ,  2.8 ],\n",
       "       [ 4.1 ,  1.4 ],\n",
       "       [12.  ,  1.9 ],\n",
       "       [13.1 ,  3.2 ],\n",
       "       [10.  , 11.2 ],\n",
       "       [11.2 , 11.4 ],\n",
       "       [11.4 , 13.6 ],\n",
       "       [13.6 , 15.  ],\n",
       "       [ 7.  , 12.  ],\n",
       "       [ 7.6 , 14.  ],\n",
       "       [ 7.59,  8.  ],\n",
       "       [10.  , 13.  ],\n",
       "       [12.  , 13.  ],\n",
       "       [12.6 , 10.  ],\n",
       "       [13.  , 10.7 ]])"
      ]
     },
     "execution_count": 6,
     "metadata": {},
     "output_type": "execute_result"
    }
   ],
   "source": [
    "X =df.iloc[:,:-1].values\n",
    "X"
   ]
  },
  {
   "cell_type": "code",
   "execution_count": 7,
   "id": "c70a6d7a",
   "metadata": {},
   "outputs": [
    {
     "data": {
      "text/plain": [
       "array([0, 0, 0, 0, 0, 0, 0, 1, 0, 0, 1, 1, 1, 1, 1, 1, 0, 1, 1, 1, 1, 1,\n",
       "       1], dtype=int64)"
      ]
     },
     "execution_count": 7,
     "metadata": {},
     "output_type": "execute_result"
    }
   ],
   "source": [
    "y = df.iloc[:,-1].values\n",
    "y"
   ]
  },
  {
   "cell_type": "code",
   "execution_count": 8,
   "id": "11578230",
   "metadata": {},
   "outputs": [
    {
     "data": {
      "text/plain": [
       "(23,)"
      ]
     },
     "execution_count": 8,
     "metadata": {},
     "output_type": "execute_result"
    }
   ],
   "source": [
    "y.shape"
   ]
  },
  {
   "cell_type": "markdown",
   "id": "79e42d6c",
   "metadata": {},
   "source": [
    "## Implimenting Logistic regression model from sklearn library"
   ]
  },
  {
   "cell_type": "code",
   "execution_count": 9,
   "id": "833cb800",
   "metadata": {},
   "outputs": [],
   "source": [
    "from sklearn.linear_model import LogisticRegression"
   ]
  },
  {
   "cell_type": "code",
   "execution_count": 10,
   "id": "95a69cdf",
   "metadata": {},
   "outputs": [],
   "source": [
    "lgr = LogisticRegression()"
   ]
  },
  {
   "cell_type": "code",
   "execution_count": 11,
   "id": "2d275443",
   "metadata": {},
   "outputs": [
    {
     "data": {
      "text/plain": [
       "LogisticRegression()"
      ]
     },
     "execution_count": 11,
     "metadata": {},
     "output_type": "execute_result"
    }
   ],
   "source": [
    "lgr.fit(X.reshape(23,2), y)"
   ]
  },
  {
   "cell_type": "code",
   "execution_count": 12,
   "id": "70e83659",
   "metadata": {},
   "outputs": [],
   "source": [
    "y_predict = lgr.predict(X.reshape(23, 2))"
   ]
  },
  {
   "cell_type": "code",
   "execution_count": 13,
   "id": "07f9bc10",
   "metadata": {},
   "outputs": [
    {
     "data": {
      "text/plain": [
       "array([[ 9,  1],\n",
       "       [ 1, 12]], dtype=int64)"
      ]
     },
     "execution_count": 13,
     "metadata": {},
     "output_type": "execute_result"
    }
   ],
   "source": [
    "from sklearn.metrics import confusion_matrix\n",
    "\n",
    "confusion_matrix(y, y_predict)"
   ]
  },
  {
   "cell_type": "code",
   "execution_count": 14,
   "id": "530f6626",
   "metadata": {
    "scrolled": true
   },
   "outputs": [
    {
     "data": {
      "text/plain": [
       "<AxesSubplot:xlabel='x1', ylabel='x2'>"
      ]
     },
     "execution_count": 14,
     "metadata": {},
     "output_type": "execute_result"
    },
    {
     "data": {
      "image/png": "[encoded data removed]",
      "text/plain": [
       "<Figure size 432x288 with 1 Axes>"
      ]
     },
     "metadata": {
      "needs_background": "light"
     },
     "output_type": "display_data"
    }
   ],
   "source": [
    "sns.scatterplot(x = 'x1', y= 'x2', data = df, hue = y_predict)"
   ]
  },
  {
   "cell_type": "code",
   "execution_count": null,
   "id": "c431d36e",
   "metadata": {},
   "outputs": [],
   "source": []
  },
  {
   "cell_type": "code",
   "execution_count": null,
   "id": "93a5b9d1",
   "metadata": {},
   "outputs": [],
   "source": []
  },
  {
   "cell_type": "markdown",
   "id": "a980db4d",
   "metadata": {},
   "source": [
    "# Logistic Regression intuition"
   ]
  },
  {
   "cell_type": "markdown",
   "id": "a0aecb30",
   "metadata": {},
   "source": [
    "### Seeing How logistic regression is classifying"
   ]
  },
  {
   "cell_type": "code",
   "execution_count": 15,
   "id": "db41837d",
   "metadata": {
    "scrolled": true
   },
   "outputs": [
    {
     "data": {
      "text/plain": [
       "array([[ 5.  ,  5.5 ,  6.  ,  4.6 ,  9.8 ,  6.1 ,  3.9 , 11.5 ,  2.9 ,\n",
       "         4.1 , 12.  , 13.1 , 10.  , 11.2 , 11.4 , 13.6 ,  7.  ,  7.6 ,\n",
       "         7.59, 10.  , 12.  , 12.6 , 13.  ],\n",
       "       [ 1.  ,  2.3 ,  1.3 ,  1.2 ,  1.5 ,  2.  ,  2.5 ,  3.  ,  2.8 ,\n",
       "         1.4 ,  1.9 ,  3.2 , 11.2 , 11.4 , 13.6 , 15.  , 12.  , 14.  ,\n",
       "         8.  , 13.  , 13.  , 10.  , 10.7 ]])"
      ]
     },
     "execution_count": 15,
     "metadata": {},
     "output_type": "execute_result"
    }
   ],
   "source": [
    "X = X.T\n",
    "X.shape\n",
    "X"
   ]
  },
  {
   "cell_type": "code",
   "execution_count": 16,
   "id": "ef4f6014",
   "metadata": {},
   "outputs": [
    {
     "data": {
      "text/plain": [
       "array([[0, 0, 0, 0, 0, 0, 0, 1, 0, 0, 1, 1, 1, 1, 1, 1, 0, 1, 1, 1, 1, 1,\n",
       "        1]], dtype=int64)"
      ]
     },
     "execution_count": 16,
     "metadata": {},
     "output_type": "execute_result"
    }
   ],
   "source": [
    "y = df.iloc[:,-1].values\n",
    "y = y.reshape(-1, 23)\n",
    "y"
   ]
  },
  {
   "cell_type": "code",
   "execution_count": 17,
   "id": "f53f0b23",
   "metadata": {},
   "outputs": [],
   "source": [
    "def sigmoid(z):\n",
    "    # this functions returns the sigmoid activation value\n",
    "    A = 1 + np.exp(-z)\n",
    "    return 1/A"
   ]
  },
  {
   "cell_type": "code",
   "execution_count": 18,
   "id": "2ff03966",
   "metadata": {},
   "outputs": [],
   "source": [
    "## Cost function\n",
    "\n",
    "def cost_function(y, y_pred, m):\n",
    "    #cost = np.dot(y, np.log(y_pred))  -  np.dot((1-y), np.log(1-y_pred))\n",
    "    cost = np.multiply(y, np.log(y_pred))  -  np.multiply((1-y), np.log(1-y_pred))\n",
    "    #return cost/m\n",
    "    return np.sum(cost/m)\n",
    "    "
   ]
  },
  {
   "cell_type": "code",
   "execution_count": 19,
   "id": "d1c5f344",
   "metadata": {},
   "outputs": [],
   "source": [
    "def back_propagation(y, y_pred, X, learn):\n",
    "    dz = y_pred - y\n",
    "    m = X.shape[0]\n",
    "    dw = (1/m) * np.dot(X, dz.T)\n",
    "    db = (1/m) * np.sum(dz)\n",
    "    \n",
    "    error = {'dw': dw, 'db': db}\n",
    "    \n",
    "    return error"
   ]
  },
  {
   "cell_type": "code",
   "execution_count": 20,
   "id": "0907e604",
   "metadata": {},
   "outputs": [],
   "source": [
    "def update_weights(error, learn, w, b):\n",
    "    dw = error['dw']\n",
    "    db = error['db']\n",
    "    \n",
    "    w = w - learn*dw\n",
    "    b = b - learn*db\n",
    "    \n",
    "    return w, b;"
   ]
  },
  {
   "cell_type": "code",
   "execution_count": 21,
   "id": "f767fa32",
   "metadata": {},
   "outputs": [],
   "source": [
    "# intial predictionn\n",
    "\n",
    "def model(X, y, w, learn, b, iterations):\n",
    "    for i in range(iterations):\n",
    "        z = np.dot(w.T, X)\n",
    "        y_pred = sigmoid(z)\n",
    "        cost = 0\n",
    "        m = X.shape[1]\n",
    "        \n",
    "        cost += cost_function(y, y_pred, m) # for iteration\n",
    "        error = back_propagation(y, y_pred, X, learn)\n",
    "\n",
    "        w, b = update_weights(error, learn, w, b)\n",
    "\n",
    "        if(i%200==0):\n",
    "            print(\"Cost Function value after .{} iterations is: .{}\".format(i, cost))\n",
    "            yhat = np.where(y_pred>=0.5, 1, 0)\n",
    "            yhat = yhat.T.reshape(-1)\n",
    "            \n",
    "            sns.scatterplot(x = 'x1', y= 'x2', data = df, hue = yhat)\n",
    "            plt.legend(loc='center left', bbox_to_anchor=(1, 0.5))\n",
    "            plt.title('.{}-iteration'.format(i+1))\n",
    "            plt.show()\n",
    "            \n",
    "    return yhat"
   ]
  },
  {
   "cell_type": "code",
   "execution_count": 22,
   "id": "21785184",
   "metadata": {
    "scrolled": false
   },
   "outputs": [
    {
     "name": "stdout",
     "output_type": "stream",
     "text": [
      "Cost Function value after .0 iterations is: .-0.09597961937146049\n"
     ]
    },
    {
     "data": {
      "image/png": "[encoded data removed]",
      "text/plain": [
       "<Figure size 432x288 with 1 Axes>"
      ]
     },
     "metadata": {
      "needs_background": "light"
     },
     "output_type": "display_data"
    },
    {
     "name": "stdout",
     "output_type": "stream",
     "text": [
      "Cost Function value after .200 iterations is: .0.04660046483306313\n"
     ]
    },
    {
     "data": {
      "image/png": "[encoded data removed]",
      "text/plain": [
       "<Figure size 432x288 with 1 Axes>"
      ]
     },
     "metadata": {
      "needs_background": "light"
     },
     "output_type": "display_data"
    },
    {
     "name": "stdout",
     "output_type": "stream",
     "text": [
      "Cost Function value after .400 iterations is: .0.04660046483306313\n"
     ]
    },
    {
     "data": {
      "image/png": "[encoded data removed]",
      "text/plain": [
       "<Figure size 432x288 with 1 Axes>"
      ]
     },
     "metadata": {
      "needs_background": "light"
     },
     "output_type": "display_data"
    },
    {
     "name": "stdout",
     "output_type": "stream",
     "text": [
      "Cost Function value after .600 iterations is: .0.04660046483306313\n"
     ]
    },
    {
     "data": {
      "image/png": "[encoded data removed]",
      "text/plain": [
       "<Figure size 432x288 with 1 Axes>"
      ]
     },
     "metadata": {
      "needs_background": "light"
     },
     "output_type": "display_data"
    },
    {
     "name": "stdout",
     "output_type": "stream",
     "text": [
      "Cost Function value after .800 iterations is: .0.04660046483306313\n"
     ]
    },
    {
     "data": {
      "image/png": "[encoded data removed]",
      "text/plain": [
       "<Figure size 432x288 with 1 Axes>"
      ]
     },
     "metadata": {
      "needs_background": "light"
     },
     "output_type": "display_data"
    }
   ],
   "source": [
    "w = np.random.randn(2, 1)*0.01\n",
    "learn = 0.01\n",
    "b = 0\n",
    "iterations = 1000\n",
    "\n",
    "\n",
    "yhat = model(X, y, w, learn, b, iterations)"
   ]
  },
  {
   "cell_type": "code",
   "execution_count": 23,
   "id": "f1f13edd",
   "metadata": {
    "scrolled": true
   },
   "outputs": [
    {
     "name": "stdout",
     "output_type": "stream",
     "text": [
      "[0 0 0 0 0 0 0 1 0 0 1 1 1 1 1 1 0 1 1 1 1 1 1]\n",
      "[0 0 0 0 0 0 1 0 1 0 0 0 1 1 1 1 1 1 1 1 1 1 1]\n"
     ]
    },
    {
     "data": {
      "text/plain": [
       "array([[ 7,  3],\n",
       "       [ 3, 10]], dtype=int64)"
      ]
     },
     "execution_count": 23,
     "metadata": {},
     "output_type": "execute_result"
    }
   ],
   "source": [
    "from sklearn.metrics import confusion_matrix\n",
    "\n",
    "\n",
    "yhat = np.array(yhat).reshape(-1)\n",
    "y = y.reshape(-1)\n",
    "\n",
    "print(y)\n",
    "print(yhat)\n",
    "\n",
    "confusion_matrix(y, yhat)"
   ]
  },
  {
   "cell_type": "code",
   "execution_count": null,
   "id": "ae7dd9a3",
   "metadata": {},
   "outputs": [],
   "source": []
  },
  {
   "cell_type": "code",
   "execution_count": null,
   "id": "1cbe4859",
   "metadata": {},
   "outputs": [],
   "source": []
  },
  {
   "cell_type": "code",
   "execution_count": null,
   "id": "ab368aff",
   "metadata": {},
   "outputs": [],
   "source": []
  },
  {
   "cell_type": "code",
   "execution_count": null,
   "id": "e33cd61c",
   "metadata": {},
   "outputs": [],
   "source": []
  }
 ],
 "metadata": {
  "kernelspec": {
   "display_name": "Python 3",
   "language": "python",
   "name": "python3"
  },
  "language_info": {
   "codemirror_mode": {
    "name": "ipython",
    "version": 3
   },
   "file_extension": ".py",
   "mimetype": "text/x-python",
   "name": "python",
   "nbconvert_exporter": "python",
   "pygments_lexer": "ipython3",
   "version": "3.8.8"
  }
 },
 "nbformat": 4,
 "nbformat_minor": 5
}
